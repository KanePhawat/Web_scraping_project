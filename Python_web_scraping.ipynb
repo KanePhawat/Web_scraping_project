{
  "nbformat": 4,
  "nbformat_minor": 0,
  "metadata": {
    "colab": {
      "provenance": [],
      "authorship_tag": "ABX9TyPOp0VHqovNjCvP8a2PqDu+",
      "include_colab_link": true
    },
    "kernelspec": {
      "name": "python3",
      "display_name": "Python 3"
    },
    "language_info": {
      "name": "python"
    }
  },
  "cells": [
    {
      "cell_type": "markdown",
      "metadata": {
        "id": "view-in-github",
        "colab_type": "text"
      },
      "source": [
        "<a href=\"https://colab.research.google.com/github/KanePhawat/Web_scraping_project/blob/main/python_web_scraping.ipynb\" target=\"_parent\"><img src=\"https://colab.research.google.com/assets/colab-badge.svg\" alt=\"Open In Colab\"/></a>"
      ]
    },
    {
      "cell_type": "markdown",
      "source": [
        "# Web scraping python with gazpacho"
      ],
      "metadata": {
        "id": "EuOwDBDjkii7"
      }
    },
    {
      "cell_type": "markdown",
      "source": [
        "### Install gazpacho and import "
      ],
      "metadata": {
        "id": "GPrCVMvjkXiO"
      }
    },
    {
      "cell_type": "code",
      "source": [
        "!pip install gazpacho"
      ],
      "metadata": {
        "colab": {
          "base_uri": "https://localhost:8080/"
        },
        "id": "MGQ7YDZ4kW78",
        "outputId": "4e1f71f3-3309-4712-9b5b-68eb16df70be"
      },
      "execution_count": null,
      "outputs": [
        {
          "output_type": "stream",
          "name": "stdout",
          "text": [
            "Looking in indexes: https://pypi.org/simple, https://us-python.pkg.dev/colab-wheels/public/simple/\n",
            "Collecting gazpacho\n",
            "  Downloading gazpacho-1.1.tar.gz (7.9 kB)\n",
            "  Installing build dependencies ... \u001b[?25l\u001b[?25hdone\n",
            "  Getting requirements to build wheel ... \u001b[?25l\u001b[?25hdone\n",
            "    Preparing wheel metadata ... \u001b[?25l\u001b[?25hdone\n",
            "Building wheels for collected packages: gazpacho\n",
            "  Building wheel for gazpacho (PEP 517) ... \u001b[?25l\u001b[?25hdone\n",
            "  Created wheel for gazpacho: filename=gazpacho-1.1-py3-none-any.whl size=7482 sha256=c8613917a641c5b812b1fdb1a8d4e54280ff812e10d81d885f19bb5460585c9b\n",
            "  Stored in directory: /root/.cache/pip/wheels/ec/45/e0/490eb5e25601b4f9425fcde4a0034601c492a29e82268be4d3\n",
            "Successfully built gazpacho\n",
            "Installing collected packages: gazpacho\n",
            "Successfully installed gazpacho-1.1\n"
          ]
        }
      ]
    },
    {
      "cell_type": "code",
      "source": [
        "from gazpacho import Soup\n",
        "from requests import get"
      ],
      "metadata": {
        "id": "p89YoAk5kebr"
      },
      "execution_count": null,
      "outputs": []
    },
    {
      "cell_type": "markdown",
      "source": [
        "Get url "
      ],
      "metadata": {
        "id": "Hb1ofLjAksmE"
      }
    },
    {
      "cell_type": "code",
      "source": [
        "url = 'https://www.imdb.com/search/title/?groups=top_100&sort=user_rating%2Cdesc'"
      ],
      "metadata": {
        "id": "wrZon_-ikuqm"
      },
      "execution_count": null,
      "outputs": []
    },
    {
      "cell_type": "markdown",
      "source": [
        "Test connection"
      ],
      "metadata": {
        "id": "Y-aoLxYilDwl"
      }
    },
    {
      "cell_type": "code",
      "source": [
        "resp = get(url)\n",
        "resp.status_code"
      ],
      "metadata": {
        "colab": {
          "base_uri": "https://localhost:8080/"
        },
        "id": "mqrVqFB7lE7G",
        "outputId": "32a8a584-1d15-4d7d-8319-bce8f09cfa48"
      },
      "execution_count": null,
      "outputs": [
        {
          "output_type": "execute_result",
          "data": {
            "text/plain": [
              "200"
            ]
          },
          "metadata": {},
          "execution_count": 4
        }
      ]
    },
    {
      "cell_type": "markdown",
      "source": [
        "### Scraping process"
      ],
      "metadata": {
        "id": "GgvJbxFDl9x_"
      }
    },
    {
      "cell_type": "code",
      "source": [
        "resp.text"
      ],
      "metadata": {
        "id": "KMZgitUEl7ge"
      },
      "execution_count": null,
      "outputs": []
    },
    {
      "cell_type": "code",
      "source": [
        "imdb = Soup(resp.text)\n",
        "imdb"
      ],
      "metadata": {
        "id": "vmgNmORRmXpX"
      },
      "execution_count": null,
      "outputs": []
    },
    {
      "cell_type": "markdown",
      "source": [
        "scrape movie names [h3] "
      ],
      "metadata": {
        "id": "_ArYefaWmfpe"
      }
    },
    {
      "cell_type": "code",
      "source": [
        "imdb.find('h3',{\"class\":'lister-item-header'}, mode = 'first').strip()"
      ],
      "metadata": {
        "colab": {
          "base_uri": "https://localhost:8080/",
          "height": 35
        },
        "id": "N-s-hStHmX5H",
        "outputId": "1371b831-37af-4dbd-a818-42c863a5c31a"
      },
      "execution_count": null,
      "outputs": [
        {
          "output_type": "execute_result",
          "data": {
            "text/plain": [
              "'1. The Shawshank Redemption (1994)'"
            ],
            "application/vnd.google.colaboratory.intrinsic+json": {
              "type": "string"
            }
          },
          "metadata": {},
          "execution_count": 8
        }
      ]
    },
    {
      "cell_type": "markdown",
      "source": [
        "for loop scraping"
      ],
      "metadata": {
        "id": "RSc0skKOrzg3"
      }
    },
    {
      "cell_type": "code",
      "source": [
        "clean_titles = []\n",
        "titles = imdb.find('h3',{\"class\":'lister-item-header'})\n",
        "for title in titles:\n",
        "  clean_titles.append(title.strip())\n",
        "\n",
        "print(clean_titles)"
      ],
      "metadata": {
        "colab": {
          "base_uri": "https://localhost:8080/"
        },
        "id": "nkXmlFAFru1h",
        "outputId": "dcacc1a6-574b-4f7f-fd63-f91129730cae"
      },
      "execution_count": null,
      "outputs": [
        {
          "output_type": "stream",
          "name": "stdout",
          "text": [
            "['1. The Shawshank Redemption (1994)', '2. The Godfather (1972)', '3. The Dark Knight (2008)', '4. The Lord of the Rings: The Return of the King (2003)', \"5. Schindler's List (1993)\", '6. The Godfather Part II (1974)', '7. 12 Angry Men (1957)', '8. Pulp Fiction (1994)', '9. Inception (2010)', '10. The Lord of the Rings: The Two Towers (2002)', '11. Fight Club (1999)', '12. The Lord of the Rings: The Fellowship of the Ring (2001)', '13. Forrest Gump (1994)', '14. The Good, the Bad and the Ugly (1966)', '15. The Matrix (1999)', '16. Goodfellas (1990)', '17. Star Wars: Episode V - The Empire Strikes Back (1980)', \"18. One Flew Over the Cuckoo's Nest (1975)\", '19. Interstellar (2014)', '20. City of God (2002)', '21. Spirited Away (2001)', '22. Saving Private Ryan (1998)', '23. The Green Mile (1999)', '24. Life Is Beautiful (1997)', '25. Se7en (1995)', '26. Terminator 2: Judgment Day (1991)', '27. The Silence of the Lambs (1991)', '28. Star Wars (1977)', '29. Harakiri (1962)', '30. Seven Samurai (1954)', \"31. It's a Wonderful Life (1946)\", '32. Parasite (2019)', '33. Whiplash (2014)', '34. The Intouchables (2011)', '35. The Prestige (2006)', '36. The Departed (2006)', '37. The Pianist (2002)', '38. Gladiator (2000)', '39. American History X (1998)', '40. The Usual Suspects (1995)', '41. Léon: The Professional (1994)', '42. The Lion King (1994)', '43. Cinema Paradiso (1988)', '44. Grave of the Fireflies (1988)', '45. Back to the Future (1985)', '46. Apocalypse Now (1979)', '47. Alien (1979)', '48. Once Upon a Time in the West (1968)', '49. Psycho (1960)', '50. Rear Window (1954)']\n"
          ]
        }
      ]
    },
    {
      "cell_type": "markdown",
      "source": [
        "scrape rating [div]"
      ],
      "metadata": {
        "id": "Ac8DsAeusPhm"
      }
    },
    {
      "cell_type": "code",
      "source": [
        "ratings = imdb.find('div',{\"class\":'inline-block ratings-imdb-rating'})\n",
        "ratings = [float(rate.strip()) for rate in ratings]\n",
        "ratings"
      ],
      "metadata": {
        "id": "M3v688GdsFTw"
      },
      "execution_count": null,
      "outputs": []
    },
    {
      "cell_type": "markdown",
      "source": [
        "Built datafram"
      ],
      "metadata": {
        "id": "KeF8-BF3sW_q"
      }
    },
    {
      "cell_type": "code",
      "source": [
        "import pandas as pd\n",
        "\n",
        "imdb_movies = pd.DataFrame({\n",
        "    'title':clean_titles,\n",
        "    'rating':ratings\n",
        "})\n",
        "\n",
        "imdb_movies"
      ],
      "metadata": {
        "colab": {
          "base_uri": "https://localhost:8080/",
          "height": 1000
        },
        "id": "WM5QDlDKsO0g",
        "outputId": "3b86c3a9-77d7-4068-fbc6-9e2f6a1b97b8"
      },
      "execution_count": null,
      "outputs": [
        {
          "output_type": "execute_result",
          "data": {
            "text/plain": [
              "                                                title  rating\n",
              "0                  1. The Shawshank Redemption (1994)     9.3\n",
              "1                             2. The Godfather (1972)     9.2\n",
              "2                           3. The Dark Knight (2008)     9.0\n",
              "3   4. The Lord of the Rings: The Return of the Ki...     9.0\n",
              "4                          5. Schindler's List (1993)     9.0\n",
              "5                     6. The Godfather Part II (1974)     9.0\n",
              "6                              7. 12 Angry Men (1957)     9.0\n",
              "7                              8. Pulp Fiction (1994)     8.9\n",
              "8                                 9. Inception (2010)     8.8\n",
              "9    10. The Lord of the Rings: The Two Towers (2002)     8.8\n",
              "10                              11. Fight Club (1999)     8.8\n",
              "11  12. The Lord of the Rings: The Fellowship of t...     8.8\n",
              "12                            13. Forrest Gump (1994)     8.8\n",
              "13          14. The Good, the Bad and the Ugly (1966)     8.8\n",
              "14                              15. The Matrix (1999)     8.7\n",
              "15                              16. Goodfellas (1990)     8.7\n",
              "16  17. Star Wars: Episode V - The Empire Strikes ...     8.7\n",
              "17         18. One Flew Over the Cuckoo's Nest (1975)     8.7\n",
              "18                            19. Interstellar (2014)     8.6\n",
              "19                             20. City of God (2002)     8.6\n",
              "20                           21. Spirited Away (2001)     8.6\n",
              "21                     22. Saving Private Ryan (1998)     8.6\n",
              "22                          23. The Green Mile (1999)     8.6\n",
              "23                       24. Life Is Beautiful (1997)     8.6\n",
              "24                                   25. Se7en (1995)     8.6\n",
              "25              26. Terminator 2: Judgment Day (1991)     8.6\n",
              "26                27. The Silence of the Lambs (1991)     8.6\n",
              "27                               28. Star Wars (1977)     8.6\n",
              "28                                29. Harakiri (1962)     8.6\n",
              "29                           30. Seven Samurai (1954)     8.6\n",
              "30                   31. It's a Wonderful Life (1946)     8.6\n",
              "31                                32. Parasite (2019)     8.5\n",
              "32                                33. Whiplash (2014)     8.5\n",
              "33                        34. The Intouchables (2011)     8.5\n",
              "34                            35. The Prestige (2006)     8.5\n",
              "35                            36. The Departed (2006)     8.5\n",
              "36                             37. The Pianist (2002)     8.5\n",
              "37                               38. Gladiator (2000)     8.5\n",
              "38                      39. American History X (1998)     8.5\n",
              "39                      40. The Usual Suspects (1995)     8.5\n",
              "40                  41. Léon: The Professional (1994)     8.5\n",
              "41                           42. The Lion King (1994)     8.5\n",
              "42                         43. Cinema Paradiso (1988)     8.5\n",
              "43                  44. Grave of the Fireflies (1988)     8.5\n",
              "44                      45. Back to the Future (1985)     8.5\n",
              "45                          46. Apocalypse Now (1979)     8.5\n",
              "46                                   47. Alien (1979)     8.5\n",
              "47            48. Once Upon a Time in the West (1968)     8.5\n",
              "48                                  49. Psycho (1960)     8.5\n",
              "49                             50. Rear Window (1954)     8.5"
            ],
            "text/html": [
              "\n",
              "  <div id=\"df-49d64a89-41f3-408b-8fa7-c52d7883b289\">\n",
              "    <div class=\"colab-df-container\">\n",
              "      <div>\n",
              "<style scoped>\n",
              "    .dataframe tbody tr th:only-of-type {\n",
              "        vertical-align: middle;\n",
              "    }\n",
              "\n",
              "    .dataframe tbody tr th {\n",
              "        vertical-align: top;\n",
              "    }\n",
              "\n",
              "    .dataframe thead th {\n",
              "        text-align: right;\n",
              "    }\n",
              "</style>\n",
              "<table border=\"1\" class=\"dataframe\">\n",
              "  <thead>\n",
              "    <tr style=\"text-align: right;\">\n",
              "      <th></th>\n",
              "      <th>title</th>\n",
              "      <th>rating</th>\n",
              "    </tr>\n",
              "  </thead>\n",
              "  <tbody>\n",
              "    <tr>\n",
              "      <th>0</th>\n",
              "      <td>1. The Shawshank Redemption (1994)</td>\n",
              "      <td>9.3</td>\n",
              "    </tr>\n",
              "    <tr>\n",
              "      <th>1</th>\n",
              "      <td>2. The Godfather (1972)</td>\n",
              "      <td>9.2</td>\n",
              "    </tr>\n",
              "    <tr>\n",
              "      <th>2</th>\n",
              "      <td>3. The Dark Knight (2008)</td>\n",
              "      <td>9.0</td>\n",
              "    </tr>\n",
              "    <tr>\n",
              "      <th>3</th>\n",
              "      <td>4. The Lord of the Rings: The Return of the Ki...</td>\n",
              "      <td>9.0</td>\n",
              "    </tr>\n",
              "    <tr>\n",
              "      <th>4</th>\n",
              "      <td>5. Schindler's List (1993)</td>\n",
              "      <td>9.0</td>\n",
              "    </tr>\n",
              "    <tr>\n",
              "      <th>5</th>\n",
              "      <td>6. The Godfather Part II (1974)</td>\n",
              "      <td>9.0</td>\n",
              "    </tr>\n",
              "    <tr>\n",
              "      <th>6</th>\n",
              "      <td>7. 12 Angry Men (1957)</td>\n",
              "      <td>9.0</td>\n",
              "    </tr>\n",
              "    <tr>\n",
              "      <th>7</th>\n",
              "      <td>8. Pulp Fiction (1994)</td>\n",
              "      <td>8.9</td>\n",
              "    </tr>\n",
              "    <tr>\n",
              "      <th>8</th>\n",
              "      <td>9. Inception (2010)</td>\n",
              "      <td>8.8</td>\n",
              "    </tr>\n",
              "    <tr>\n",
              "      <th>9</th>\n",
              "      <td>10. The Lord of the Rings: The Two Towers (2002)</td>\n",
              "      <td>8.8</td>\n",
              "    </tr>\n",
              "    <tr>\n",
              "      <th>10</th>\n",
              "      <td>11. Fight Club (1999)</td>\n",
              "      <td>8.8</td>\n",
              "    </tr>\n",
              "    <tr>\n",
              "      <th>11</th>\n",
              "      <td>12. The Lord of the Rings: The Fellowship of t...</td>\n",
              "      <td>8.8</td>\n",
              "    </tr>\n",
              "    <tr>\n",
              "      <th>12</th>\n",
              "      <td>13. Forrest Gump (1994)</td>\n",
              "      <td>8.8</td>\n",
              "    </tr>\n",
              "    <tr>\n",
              "      <th>13</th>\n",
              "      <td>14. The Good, the Bad and the Ugly (1966)</td>\n",
              "      <td>8.8</td>\n",
              "    </tr>\n",
              "    <tr>\n",
              "      <th>14</th>\n",
              "      <td>15. The Matrix (1999)</td>\n",
              "      <td>8.7</td>\n",
              "    </tr>\n",
              "    <tr>\n",
              "      <th>15</th>\n",
              "      <td>16. Goodfellas (1990)</td>\n",
              "      <td>8.7</td>\n",
              "    </tr>\n",
              "    <tr>\n",
              "      <th>16</th>\n",
              "      <td>17. Star Wars: Episode V - The Empire Strikes ...</td>\n",
              "      <td>8.7</td>\n",
              "    </tr>\n",
              "    <tr>\n",
              "      <th>17</th>\n",
              "      <td>18. One Flew Over the Cuckoo's Nest (1975)</td>\n",
              "      <td>8.7</td>\n",
              "    </tr>\n",
              "    <tr>\n",
              "      <th>18</th>\n",
              "      <td>19. Interstellar (2014)</td>\n",
              "      <td>8.6</td>\n",
              "    </tr>\n",
              "    <tr>\n",
              "      <th>19</th>\n",
              "      <td>20. City of God (2002)</td>\n",
              "      <td>8.6</td>\n",
              "    </tr>\n",
              "    <tr>\n",
              "      <th>20</th>\n",
              "      <td>21. Spirited Away (2001)</td>\n",
              "      <td>8.6</td>\n",
              "    </tr>\n",
              "    <tr>\n",
              "      <th>21</th>\n",
              "      <td>22. Saving Private Ryan (1998)</td>\n",
              "      <td>8.6</td>\n",
              "    </tr>\n",
              "    <tr>\n",
              "      <th>22</th>\n",
              "      <td>23. The Green Mile (1999)</td>\n",
              "      <td>8.6</td>\n",
              "    </tr>\n",
              "    <tr>\n",
              "      <th>23</th>\n",
              "      <td>24. Life Is Beautiful (1997)</td>\n",
              "      <td>8.6</td>\n",
              "    </tr>\n",
              "    <tr>\n",
              "      <th>24</th>\n",
              "      <td>25. Se7en (1995)</td>\n",
              "      <td>8.6</td>\n",
              "    </tr>\n",
              "    <tr>\n",
              "      <th>25</th>\n",
              "      <td>26. Terminator 2: Judgment Day (1991)</td>\n",
              "      <td>8.6</td>\n",
              "    </tr>\n",
              "    <tr>\n",
              "      <th>26</th>\n",
              "      <td>27. The Silence of the Lambs (1991)</td>\n",
              "      <td>8.6</td>\n",
              "    </tr>\n",
              "    <tr>\n",
              "      <th>27</th>\n",
              "      <td>28. Star Wars (1977)</td>\n",
              "      <td>8.6</td>\n",
              "    </tr>\n",
              "    <tr>\n",
              "      <th>28</th>\n",
              "      <td>29. Harakiri (1962)</td>\n",
              "      <td>8.6</td>\n",
              "    </tr>\n",
              "    <tr>\n",
              "      <th>29</th>\n",
              "      <td>30. Seven Samurai (1954)</td>\n",
              "      <td>8.6</td>\n",
              "    </tr>\n",
              "    <tr>\n",
              "      <th>30</th>\n",
              "      <td>31. It's a Wonderful Life (1946)</td>\n",
              "      <td>8.6</td>\n",
              "    </tr>\n",
              "    <tr>\n",
              "      <th>31</th>\n",
              "      <td>32. Parasite (2019)</td>\n",
              "      <td>8.5</td>\n",
              "    </tr>\n",
              "    <tr>\n",
              "      <th>32</th>\n",
              "      <td>33. Whiplash (2014)</td>\n",
              "      <td>8.5</td>\n",
              "    </tr>\n",
              "    <tr>\n",
              "      <th>33</th>\n",
              "      <td>34. The Intouchables (2011)</td>\n",
              "      <td>8.5</td>\n",
              "    </tr>\n",
              "    <tr>\n",
              "      <th>34</th>\n",
              "      <td>35. The Prestige (2006)</td>\n",
              "      <td>8.5</td>\n",
              "    </tr>\n",
              "    <tr>\n",
              "      <th>35</th>\n",
              "      <td>36. The Departed (2006)</td>\n",
              "      <td>8.5</td>\n",
              "    </tr>\n",
              "    <tr>\n",
              "      <th>36</th>\n",
              "      <td>37. The Pianist (2002)</td>\n",
              "      <td>8.5</td>\n",
              "    </tr>\n",
              "    <tr>\n",
              "      <th>37</th>\n",
              "      <td>38. Gladiator (2000)</td>\n",
              "      <td>8.5</td>\n",
              "    </tr>\n",
              "    <tr>\n",
              "      <th>38</th>\n",
              "      <td>39. American History X (1998)</td>\n",
              "      <td>8.5</td>\n",
              "    </tr>\n",
              "    <tr>\n",
              "      <th>39</th>\n",
              "      <td>40. The Usual Suspects (1995)</td>\n",
              "      <td>8.5</td>\n",
              "    </tr>\n",
              "    <tr>\n",
              "      <th>40</th>\n",
              "      <td>41. Léon: The Professional (1994)</td>\n",
              "      <td>8.5</td>\n",
              "    </tr>\n",
              "    <tr>\n",
              "      <th>41</th>\n",
              "      <td>42. The Lion King (1994)</td>\n",
              "      <td>8.5</td>\n",
              "    </tr>\n",
              "    <tr>\n",
              "      <th>42</th>\n",
              "      <td>43. Cinema Paradiso (1988)</td>\n",
              "      <td>8.5</td>\n",
              "    </tr>\n",
              "    <tr>\n",
              "      <th>43</th>\n",
              "      <td>44. Grave of the Fireflies (1988)</td>\n",
              "      <td>8.5</td>\n",
              "    </tr>\n",
              "    <tr>\n",
              "      <th>44</th>\n",
              "      <td>45. Back to the Future (1985)</td>\n",
              "      <td>8.5</td>\n",
              "    </tr>\n",
              "    <tr>\n",
              "      <th>45</th>\n",
              "      <td>46. Apocalypse Now (1979)</td>\n",
              "      <td>8.5</td>\n",
              "    </tr>\n",
              "    <tr>\n",
              "      <th>46</th>\n",
              "      <td>47. Alien (1979)</td>\n",
              "      <td>8.5</td>\n",
              "    </tr>\n",
              "    <tr>\n",
              "      <th>47</th>\n",
              "      <td>48. Once Upon a Time in the West (1968)</td>\n",
              "      <td>8.5</td>\n",
              "    </tr>\n",
              "    <tr>\n",
              "      <th>48</th>\n",
              "      <td>49. Psycho (1960)</td>\n",
              "      <td>8.5</td>\n",
              "    </tr>\n",
              "    <tr>\n",
              "      <th>49</th>\n",
              "      <td>50. Rear Window (1954)</td>\n",
              "      <td>8.5</td>\n",
              "    </tr>\n",
              "  </tbody>\n",
              "</table>\n",
              "</div>\n",
              "      <button class=\"colab-df-convert\" onclick=\"convertToInteractive('df-49d64a89-41f3-408b-8fa7-c52d7883b289')\"\n",
              "              title=\"Convert this dataframe to an interactive table.\"\n",
              "              style=\"display:none;\">\n",
              "        \n",
              "  <svg xmlns=\"http://www.w3.org/2000/svg\" height=\"24px\"viewBox=\"0 0 24 24\"\n",
              "       width=\"24px\">\n",
              "    <path d=\"M0 0h24v24H0V0z\" fill=\"none\"/>\n",
              "    <path d=\"M18.56 5.44l.94 2.06.94-2.06 2.06-.94-2.06-.94-.94-2.06-.94 2.06-2.06.94zm-11 1L8.5 8.5l.94-2.06 2.06-.94-2.06-.94L8.5 2.5l-.94 2.06-2.06.94zm10 10l.94 2.06.94-2.06 2.06-.94-2.06-.94-.94-2.06-.94 2.06-2.06.94z\"/><path d=\"M17.41 7.96l-1.37-1.37c-.4-.4-.92-.59-1.43-.59-.52 0-1.04.2-1.43.59L10.3 9.45l-7.72 7.72c-.78.78-.78 2.05 0 2.83L4 21.41c.39.39.9.59 1.41.59.51 0 1.02-.2 1.41-.59l7.78-7.78 2.81-2.81c.8-.78.8-2.07 0-2.86zM5.41 20L4 18.59l7.72-7.72 1.47 1.35L5.41 20z\"/>\n",
              "  </svg>\n",
              "      </button>\n",
              "      \n",
              "  <style>\n",
              "    .colab-df-container {\n",
              "      display:flex;\n",
              "      flex-wrap:wrap;\n",
              "      gap: 12px;\n",
              "    }\n",
              "\n",
              "    .colab-df-convert {\n",
              "      background-color: #E8F0FE;\n",
              "      border: none;\n",
              "      border-radius: 50%;\n",
              "      cursor: pointer;\n",
              "      display: none;\n",
              "      fill: #1967D2;\n",
              "      height: 32px;\n",
              "      padding: 0 0 0 0;\n",
              "      width: 32px;\n",
              "    }\n",
              "\n",
              "    .colab-df-convert:hover {\n",
              "      background-color: #E2EBFA;\n",
              "      box-shadow: 0px 1px 2px rgba(60, 64, 67, 0.3), 0px 1px 3px 1px rgba(60, 64, 67, 0.15);\n",
              "      fill: #174EA6;\n",
              "    }\n",
              "\n",
              "    [theme=dark] .colab-df-convert {\n",
              "      background-color: #3B4455;\n",
              "      fill: #D2E3FC;\n",
              "    }\n",
              "\n",
              "    [theme=dark] .colab-df-convert:hover {\n",
              "      background-color: #434B5C;\n",
              "      box-shadow: 0px 1px 3px 1px rgba(0, 0, 0, 0.15);\n",
              "      filter: drop-shadow(0px 1px 2px rgba(0, 0, 0, 0.3));\n",
              "      fill: #FFFFFF;\n",
              "    }\n",
              "  </style>\n",
              "\n",
              "      <script>\n",
              "        const buttonEl =\n",
              "          document.querySelector('#df-49d64a89-41f3-408b-8fa7-c52d7883b289 button.colab-df-convert');\n",
              "        buttonEl.style.display =\n",
              "          google.colab.kernel.accessAllowed ? 'block' : 'none';\n",
              "\n",
              "        async function convertToInteractive(key) {\n",
              "          const element = document.querySelector('#df-49d64a89-41f3-408b-8fa7-c52d7883b289');\n",
              "          const dataTable =\n",
              "            await google.colab.kernel.invokeFunction('convertToInteractive',\n",
              "                                                     [key], {});\n",
              "          if (!dataTable) return;\n",
              "\n",
              "          const docLinkHtml = 'Like what you see? Visit the ' +\n",
              "            '<a target=\"_blank\" href=https://colab.research.google.com/notebooks/data_table.ipynb>data table notebook</a>'\n",
              "            + ' to learn more about interactive tables.';\n",
              "          element.innerHTML = '';\n",
              "          dataTable['output_type'] = 'display_data';\n",
              "          await google.colab.output.renderOutput(dataTable, element);\n",
              "          const docLink = document.createElement('div');\n",
              "          docLink.innerHTML = docLinkHtml;\n",
              "          element.appendChild(docLink);\n",
              "        }\n",
              "      </script>\n",
              "    </div>\n",
              "  </div>\n",
              "  "
            ]
          },
          "metadata": {},
          "execution_count": 12
        }
      ]
    }
  ]
}
