{
 "cells": [
  {
   "cell_type": "markdown",
   "metadata": {},
   "source": [
    "# Scrape Data from shopee with selenium and beatifulsoup"
   ]
  },
  {
   "cell_type": "markdown",
   "metadata": {},
   "source": [
    "### 1. Pip install library"
   ]
  },
  {
   "cell_type": "code",
   "execution_count": null,
   "metadata": {},
   "outputs": [],
   "source": [
    "!pip install selenium\n",
    "!pip install bs4"
   ]
  },
  {
   "cell_type": "markdown",
   "metadata": {},
   "source": [
    "### 2. Import library"
   ]
  },
  {
   "cell_type": "code",
   "execution_count": 6,
   "metadata": {},
   "outputs": [],
   "source": [
    "import pandas as pd\n",
    "from selenium import webdriver\n",
    "import bs4\n",
    "import time\n",
    "import re\n",
    "from selenium.webdriver.common.keys import Keys"
   ]
  },
  {
   "cell_type": "markdown",
   "metadata": {},
   "source": [
    "### 3. Selenium: Control and web page preparation"
   ]
  },
  {
   "cell_type": "markdown",
   "metadata": {},
   "source": [
    "3.1 Open browser"
   ]
  },
  {
   "cell_type": "code",
   "execution_count": null,
   "metadata": {},
   "outputs": [],
   "source": [
    "from selenium import webdriver\n",
    "\n",
    "url = \"https://shopee.co.th/\"\n",
    "driver = webdriver.Chrome(executable_path = r'C:\\Users\\User\\Desktop\\Python_shopee\\chromedriver')\n",
    "driver.get(url)"
   ]
  },
  {
   "cell_type": "markdown",
   "metadata": {},
   "source": [
    "3.2 Select element on website (select thai_button)"
   ]
  },
  {
   "cell_type": "code",
   "execution_count": 8,
   "metadata": {},
   "outputs": [],
   "source": [
    "thai_button = driver.find_element(\"xpath\",'/html/body/div[2]/div[1]/div[1]/div/div[3]/div[1]/button')\n",
    "thai_button.click()"
   ]
  },
  {
   "cell_type": "markdown",
   "metadata": {},
   "source": [
    "3.3 Close advertising"
   ]
  },
  {
   "cell_type": "code",
   "execution_count": 9,
   "metadata": {},
   "outputs": [],
   "source": [
    "close_button = driver.execute_script('return document.querySelector(\"shopee-banner-popup-stateful\").shadowRoot.querySelector(\"div.shopee-popup__close-btn\")')\n",
    "close_button.click()"
   ]
  },
  {
   "cell_type": "markdown",
   "metadata": {},
   "source": [
    "3.4 Search bar for searching keyword"
   ]
  },
  {
   "cell_type": "code",
   "execution_count": null,
   "metadata": {},
   "outputs": [],
   "source": [
    "keyword =\"หม้อทอดไร้น้ำมัน\"\n",
    "\n",
    "search = driver.find_element(\"xpath\",'/html/body/div[1]/div/header/div[2]/div/div[1]/div[1]/div/form/input')\n",
    "search.send_keys(keyword)"
   ]
  },
  {
   "cell_type": "markdown",
   "metadata": {},
   "source": [
    "3.5 Use keyboard press ENTER"
   ]
  },
  {
   "cell_type": "code",
   "execution_count": null,
   "metadata": {},
   "outputs": [],
   "source": [
    "from selenium.webdriver.common.keys import Keys\n",
    "search.send_keys(Keys.ENTER)"
   ]
  },
  {
   "cell_type": "markdown",
   "metadata": {},
   "source": [
    "Zoom out"
   ]
  },
  {
   "cell_type": "code",
   "execution_count": null,
   "metadata": {},
   "outputs": [],
   "source": [
    "driver.execute_script(\"document.body.style.zoom='10%'\")\n",
    "driver.execute_script(\"document.body.style.zoom='100%'\")"
   ]
  },
  {
   "cell_type": "markdown",
   "metadata": {},
   "source": [
    "3.6 Next page"
   ]
  },
  {
   "cell_type": "code",
   "execution_count": null,
   "metadata": {},
   "outputs": [],
   "source": [
    "next_button = driver.find_element(\"xpath\",\"/html/body/div[1]/div/div[2]/div/div/div[2]/div[2]/div[3]/div/button[@class='shopee-icon-button shopee-icon-button--right ']\")\n",
    "next_button.click()"
   ]
  },
  {
   "cell_type": "markdown",
   "metadata": {},
   "source": [
    "### 4. Beautiful soup: Scraping process"
   ]
  },
  {
   "cell_type": "markdown",
   "metadata": {},
   "source": [
    "4.1 เก็บข้อมูลจากหน้าเว็บ <br>\n",
    "- ใช้ดึง html ของ browser ที่เปิดอยู่ออกมา ตัวที่ดึงได้ในขณะที่คำสั่งทำงาน <br>\n",
    "- ถ้าก็บไว้ในตัวแปร data แล้ว สามารถปิดหน้าเว็บได้เลย (ไม่ได้เชื่อมกันแล้ว)"
   ]
  },
  {
   "cell_type": "code",
   "execution_count": null,
   "metadata": {},
   "outputs": [],
   "source": [
    "import bs4\n",
    "\n",
    "data = driver.page_source\n",
    "soup = bs4.BeautifulSoup(data)\n",
    "box_products = soup.select(\".row>div\") #css selector"
   ]
  },
  {
   "cell_type": "markdown",
   "metadata": {},
   "source": [
    "check amoung of data : 60 datas"
   ]
  },
  {
   "cell_type": "code",
   "execution_count": null,
   "metadata": {},
   "outputs": [],
   "source": [
    "len(box_products)\n",
    "product = box_products[1] #แทนกล่องสินค้าแต่ละกล่อง"
   ]
  },
  {
   "cell_type": "markdown",
   "metadata": {},
   "source": [
    "4.2 select NAME data (~select_one)"
   ]
  },
  {
   "cell_type": "code",
   "execution_count": null,
   "metadata": {},
   "outputs": [],
   "source": [
    "product.select_one(\"div > div.dYFPlI > div > div > div.ZgwlcK > div.shopee-search-item-result > div.row.shopee-search-item-result__items > div > a > div > div > div.KMyn8J > div.dpiR4u > div.FDn--\\+ > div\").text.strip()"
   ]
  },
  {
   "cell_type": "markdown",
   "metadata": {},
   "source": [
    "4.3 select PRICE data"
   ]
  },
  {
   "cell_type": "code",
   "execution_count": null,
   "metadata": {},
   "outputs": [],
   "source": [
    "try:\n",
    "    p = product.select_one(\"#main > div > div.dYFPlI > div > div > div.ZgwlcK > div.shopee-search-item-result > div.row.shopee-search-item-result__items > div > a > div > div > div.KMyn8J > div.hpDKMN > div.vioxXd.rVLWG6\").text.strip()\n",
    "    if p == \" \":\n",
    "        print(1/0)\n",
    "except:\n",
    "    p = product.select_one(\"#main > div > div.dYFPlI > div > div > div.ZgwlcK > div.shopee-search-item-result > div.row.shopee-search-item-result__items > div > a > div > div > div.KMyn8J > div.hpDKMN > div\").text.strip()\n",
    "p = p.replace(\",\",\"\").replace(\"฿\",\"\").replace(\" \", \"\")\n",
    "try:\n",
    "    start_price = float(p)\n",
    "except:\n",
    "    price = p.split(\"-\")\n",
    "    list_x = []\n",
    "    for i in price:\n",
    "        x = str(float(i))\n",
    "        list_x.append(x)\n",
    "    start_price = list_x[0]+\"-\"+list_x[1]\n",
    "start_price"
   ]
  },
  {
   "cell_type": "markdown",
   "metadata": {},
   "source": [
    "4.4 select SALES data<br>\n",
    "แปลงหน่วย พัน และ ล้าน เป็นจำนวนตัวเลข 000 , 000000"
   ]
  },
  {
   "cell_type": "code",
   "execution_count": null,
   "metadata": {},
   "outputs": [],
   "source": [
    "import re\n",
    "\n",
    "sales = product.select_one(\"#main > div > div.dYFPlI > div > div > div.ZgwlcK > div.shopee-search-item-result > div.row.shopee-search-item-result__items > div > a > div > div > div.KMyn8J > div.ZnrnMl\").text.strip()\n",
    "if '.' in sales:\n",
    "    sales = sales.replace(\"พัน\",\"00\").replace(\"ล้าน\",\"00000\").replace(\".\",\"\")\n",
    "else:\n",
    "    sales = sales.replace(\"พัน\",\"000\").replace(\"ล้าน\",\"000000\")\n",
    "try:\n",
    "    sales = float(re.sub('\\D',' ',sales))\n",
    "except:\n",
    "    sales = 0\n",
    "sales"
   ]
  },
  {
   "cell_type": "markdown",
   "metadata": {},
   "source": [
    "4.5 select ORIGIN OF PROVINCE data"
   ]
  },
  {
   "cell_type": "code",
   "execution_count": null,
   "metadata": {},
   "outputs": [],
   "source": [
    "product.select_one(\"#main > div > div.dYFPlI > div > div > div.ZgwlcK > div.shopee-search-item-result > div.row.shopee-search-item-result__items > div > a > div > div > div.KMyn8J > div.zGGwiV\").text.strip()"
   ]
  },
  {
   "cell_type": "markdown",
   "metadata": {},
   "source": [
    "4.6 save to EXCEL file"
   ]
  },
  {
   "cell_type": "code",
   "execution_count": null,
   "metadata": {},
   "outputs": [],
   "source": [
    "df = pd.DataFrame(records, columns=['url','itemname','Price range','Sales','Province'])\n",
    "df.to_excel(rf'C:\\Users\\User\\Desktop\\Python_shopee\\shopee_{search_keyword}.xlsx')"
   ]
  },
  {
   "cell_type": "markdown",
   "metadata": {},
   "source": [
    "### 5. Fully coding (Automatic) </br>\n",
    " - ระบุ keyword\n",
    " - จำนวนหน้า"
   ]
  },
  {
   "cell_type": "code",
   "execution_count": null,
   "metadata": {},
   "outputs": [],
   "source": [
    "import pandas as pd\n",
    "from selenium import webdriver\n",
    "import bs4\n",
    "import time\n",
    "import re\n",
    "from selenium.webdriver.common.keys import Keys\n",
    "\n",
    "search_keyword = \"หม้อทอดไร้น้ำมัน\"\n",
    "pages = 1\n",
    "\n",
    "driver = webdriver.Chrome(executable_path = r'C:\\Users\\User\\Desktop\\Python_shopee\\chromedriver')\n",
    "driver.get(\"https://shopee.co.th/\")\n",
    "thai_button = driver.find_element(\"xpath\",'/html/body/div[2]/div[1]/div[1]/div/div[3]/div[1]/button')\n",
    "thai_button.click()\n",
    "close_ads = driver.execute_script('return document.querySelector(\"shopee-banner-popup-stateful\").shadowRoot.querySelector(\"div.shopee-popup__close-btn\")')\n",
    "close_ads.click()\n",
    "search = driver.find_element(\"xpath\",'/html/body/div[1]/div/header/div[2]/div/div[1]/div[1]/div/form/input')\n",
    "search.send_keys(search_keyword)\n",
    "search.send_keys(Keys.ENTER)\n",
    "\n",
    "#driver.execute_script(\"document.body.style.zoom='10%'\")\n",
    "#driver.execute_script(\"document.body.style.zoom='100%'\")\n",
    "\n",
    "#time.sleep(5)\n",
    "records = []\n",
    "for i in range (pages) :\n",
    "    driver.execute_script(\"document.body.style.zoom='10%'\")\n",
    "    time.sleep(5)\n",
    "    data = driver.page_source\n",
    "    soup = bs4.BeautifulSoup(data)\n",
    "    box_products = soup.select(\".row>div\")\n",
    "    for product in box_products:\n",
    "        names = product.select_one(\"div > div.dYFPlI > div > div > div.ZgwlcK > div.shopee-search-item-result > div.row.shopee-search-item-result__items > div > a > div > div > div.KMyn8J > div.dpiR4u > div.FDn--\\+ > div\").text.strip()\n",
    "        \n",
    "        try:\n",
    "            p = product.select_one(\"#main > div > div.dYFPlI > div > div > div.ZgwlcK > div.shopee-search-item-result > div.row.shopee-search-item-result__items > div > a > div > div > div.KMyn8J > div.hpDKMN > div.vioxXd.rVLWG6\").text.strip()\n",
    "            if p == \" \":\n",
    "                print(1/0)\n",
    "        except:\n",
    "            p = product.select_one(\"#main > div > div.dYFPlI > div > div > div.ZgwlcK > div.shopee-search-item-result > div.row.shopee-search-item-result__items > div > a > div > div > div.KMyn8J > div.hpDKMN > div\").text.strip()\n",
    "        p = p.replace(\",\",\"\").replace(\"฿\",\"\").replace(\" \", \"\")\n",
    "        try:\n",
    "            start_price = float(p)\n",
    "        except:\n",
    "            price = p.split(\"-\")\n",
    "            list_x = []\n",
    "            for i in price:\n",
    "                x = str(float(i))\n",
    "                list_x.append(x)\n",
    "            start_price = list_x[0]+\"-\"+list_x[1]\n",
    "\n",
    "        sales = product.select_one(\"#main > div > div.dYFPlI > div > div > div.ZgwlcK > div.shopee-search-item-result > div.row.shopee-search-item-result__items > div > a > div > div > div.KMyn8J > div.ZnrnMl\").text.strip()\n",
    "        if '.' in sales:\n",
    "            sales = sales.replace(\"พัน\",\"00\").replace(\"ล้าน\",\"00000\").replace(\".\",\"\")\n",
    "        else:\n",
    "            sales = sales.replace(\"พัน\",\"000\").replace(\"ล้าน\",\"000000\")\n",
    "        try:\n",
    "            sales = float(re.sub('\\D',' ',sales))\n",
    "        except:\n",
    "            sales = 0\n",
    "        \n",
    "        provinces = product.select_one(\"#main > div > div.dYFPlI > div > div > div.ZgwlcK > div.shopee-search-item-result > div.row.shopee-search-item-result__items > div > a > div > div > div.KMyn8J > div.zGGwiV\").text.strip()\n",
    "        \n",
    "        product.select_one('#main > div > div.dYFPlI > div > div > div.ZgwlcK > div.shopee-search-item-result > div.row.shopee-search-item-result__items > div > a')\n",
    "        for link in product.find_all('a', href=True):\n",
    "            link = link['href']\n",
    "        url = \"https://shopee.co.th\"+link\n",
    "        \n",
    "        records.append([url,names,start_price,sales,provinces])\n",
    "        \n",
    "    time.sleep(5)\n",
    "    driver.execute_script(\"document.body.style.zoom='100%'\")\n",
    "    #next_button = driver.find_element(\"xpath\",\"/html/body/div[1]/div/div[2]/div/div/div[2]/div[2]/div[3]/div/button[8]\")\n",
    "    next_button = driver.find_element(\"xpath\",\"/html/body/div[1]/div/div[2]/div/div/div[2]/div[2]/div[3]/div/button[@class='shopee-icon-button shopee-icon-button--right ']\")\n",
    "    next_button.click()\n",
    "    time.sleep(5)\n",
    "\n",
    "df = pd.DataFrame(records, columns=['url','itemname','Price range','Sales','Province'])\n",
    "df.to_excel(rf'C:\\Users\\User\\Desktop\\Python_shopee\\shopee_{search_keyword}.xlsx')"
   ]
  }
 ],
 "metadata": {
  "kernelspec": {
   "display_name": "Python 3.10.4 64-bit",
   "language": "python",
   "name": "python3"
  },
  "language_info": {
   "codemirror_mode": {
    "name": "ipython",
    "version": 3
   },
   "file_extension": ".py",
   "mimetype": "text/x-python",
   "name": "python",
   "nbconvert_exporter": "python",
   "pygments_lexer": "ipython3",
   "version": "3.10.4"
  },
  "orig_nbformat": 4,
  "vscode": {
   "interpreter": {
    "hash": "afb734500600fd355917ca529030176ea0ca205570884b88f2f6f7d791fd3fbe"
   }
  }
 },
 "nbformat": 4,
 "nbformat_minor": 2
}
